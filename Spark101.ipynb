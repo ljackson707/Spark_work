{
 "cells": [
  {
   "cell_type": "markdown",
   "metadata": {},
   "source": [
    "# Exercises\n",
    "\n",
    "Within your codeup-data-science directory, create a new repo named spark-exercises. This will be where you do your work for this module. Create a repository on GitHub with the same name, and link your local repository to GitHub.\n",
    "\n",
    "- Save this work in your spark-exercises repo. Then add, commit, and push your changes.\n",
    "\n",
    "- Create a jupyter notebook or python script named spark101 for this exercise.\n"
   ]
  },
  {
   "cell_type": "code",
   "execution_count": 1,
   "metadata": {},
   "outputs": [],
   "source": [
    "import pyspark\n",
    "# once per notebook\n",
    "spark = pyspark.sql.SparkSession.builder.getOrCreate()"
   ]
  },
  {
   "cell_type": "code",
   "execution_count": 2,
   "metadata": {},
   "outputs": [],
   "source": [
    "import multiprocessing\n",
    "import pyspark\n",
    "import pyspark.sql.functions as F\n",
    "from pyspark.sql.functions import col, expr\n",
    "from pyspark.sql.functions import sqrt\n",
    "from pyspark.sql.functions import concat, sum, avg, min, max, count, mean\n",
    "from pyspark.sql.functions import when"
   ]
  },
  {
   "cell_type": "markdown",
   "metadata": {},
   "source": [
    "1) Create a spark data frame that contains your favorite programming languages.\n",
    "   - The name of the column should be language\n",
    "   - View the schema of the dataframe\n",
    "   - Output the shape of the dataframe\n",
    "   - Show the first 5 records in the dataframe"
   ]
  },
  {
   "cell_type": "code",
   "execution_count": 17,
   "metadata": {},
   "outputs": [
    {
     "name": "stdout",
     "output_type": "stream",
     "text": [
      "root\n",
      " |-- language: string (nullable = true)\n",
      "\n"
     ]
    }
   ],
   "source": [
    "spark.createDataFrame([\"Python\",\"Javascript\",\"C++\", \"R\", \"Go\", \"Kotlin\", \"Swift\", \"PHP\"], \"string\").toDF(\"language\").printSchema()"
   ]
  },
  {
   "cell_type": "code",
   "execution_count": 15,
   "metadata": {},
   "outputs": [
    {
     "data": {
      "text/plain": [
       "(8, 1)"
      ]
     },
     "execution_count": 15,
     "metadata": {},
     "output_type": "execute_result"
    }
   ],
   "source": [
    "spark.createDataFrame([\"Python\",\"Javascript\",\"C++\", \"R\", \"Go\", \"Kotlin\", \"Swift\", \"PHP\"], \"string\").toDF(\"language\").shape()"
   ]
  },
  {
   "cell_type": "code",
   "execution_count": 4,
   "metadata": {},
   "outputs": [
    {
     "name": "stdout",
     "output_type": "stream",
     "text": [
      "+----------+\n",
      "|  language|\n",
      "+----------+\n",
      "|    Python|\n",
      "|Javascript|\n",
      "|       C++|\n",
      "|         R|\n",
      "|        Go|\n",
      "+----------+\n",
      "only showing top 5 rows\n",
      "\n"
     ]
    }
   ],
   "source": [
    "favorite_programming_languages = spark.createDataFrame([\"Python\",\"Javascript\",\"C++\", \"R\", \"Go\", \"Kotlin\", \"Swift\", \"PHP\"], \"string\").toDF(\"language\").show(5)"
   ]
  },
  {
   "cell_type": "markdown",
   "metadata": {},
   "source": [
    "2) Load the mpg dataset as a spark dataframe.\n",
    "\n",
    "   - Create 1 column of output that contains a message like the one below:\n",
    "\n",
    "        - The 1999 audi a4 has a 4 cylinder engine.\n",
    "\n",
    "        - For each vehicle.\n",
    "\n",
    "   - Transform the trans column so that it only contains either manual or auto."
   ]
  },
  {
   "cell_type": "code",
   "execution_count": 19,
   "metadata": {},
   "outputs": [],
   "source": [
    "from pydataset import data"
   ]
  },
  {
   "cell_type": "code",
   "execution_count": 21,
   "metadata": {},
   "outputs": [
    {
     "name": "stdout",
     "output_type": "stream",
     "text": [
      "+------------+-----+-----+----+---+----------+---+---+---+---+-------+\n",
      "|manufacturer|model|displ|year|cyl|     trans|drv|cty|hwy| fl|  class|\n",
      "+------------+-----+-----+----+---+----------+---+---+---+---+-------+\n",
      "|        audi|   a4|  1.8|1999|  4|  auto(l5)|  f| 18| 29|  p|compact|\n",
      "|        audi|   a4|  1.8|1999|  4|manual(m5)|  f| 21| 29|  p|compact|\n",
      "|        audi|   a4|  2.0|2008|  4|manual(m6)|  f| 20| 31|  p|compact|\n",
      "|        audi|   a4|  2.0|2008|  4|  auto(av)|  f| 21| 30|  p|compact|\n",
      "|        audi|   a4|  2.8|1999|  6|  auto(l5)|  f| 16| 26|  p|compact|\n",
      "+------------+-----+-----+----+---+----------+---+---+---+---+-------+\n",
      "only showing top 5 rows\n",
      "\n"
     ]
    }
   ],
   "source": [
    "mpg = spark.createDataFrame(data(\"mpg\"))\n",
    "mpg.show(5)"
   ]
  },
  {
   "cell_type": "code",
   "execution_count": null,
   "metadata": {},
   "outputs": [],
   "source": [
    "The {year} {manufacturer} {model} has a {cyl} cylinder engine"
   ]
  },
  {
   "cell_type": "code",
   "execution_count": 32,
   "metadata": {},
   "outputs": [],
   "source": [
    "from pyspark.sql.functions import lit"
   ]
  },
  {
   "cell_type": "code",
   "execution_count": 44,
   "metadata": {},
   "outputs": [
    {
     "name": "stdout",
     "output_type": "stream",
     "text": [
      "+--------------------+\n",
      "|         description|\n",
      "+--------------------+\n",
      "|The 1999 audi a4 ...|\n",
      "|The 1999 audi a4 ...|\n",
      "|The 2008 audi a4 ...|\n",
      "|The 2008 audi a4 ...|\n",
      "|The 1999 audi a4 ...|\n",
      "+--------------------+\n",
      "only showing top 5 rows\n",
      "\n"
     ]
    }
   ],
   "source": [
    "mpg.select((concat(lit(\"The \"),mpg.year,lit(\" \"), mpg.manufacturer,lit(\" \"), mpg.model, lit(\" has a \"), mpg.cyl, lit(\" cylinder engine\")).alias(\"description\"))).show(5)"
   ]
  },
  {
   "cell_type": "code",
   "execution_count": 115,
   "metadata": {},
   "outputs": [
    {
     "name": "stdout",
     "output_type": "stream",
     "text": [
      "+----------+------------+\n",
      "|     trans|transmission|\n",
      "+----------+------------+\n",
      "|  auto(l5)|        auto|\n",
      "|manual(m5)|      manual|\n",
      "|manual(m6)|      manual|\n",
      "|  auto(av)|        auto|\n",
      "+----------+------------+\n",
      "only showing top 4 rows\n",
      "\n"
     ]
    }
   ],
   "source": [
    "mpg.select(mpg.trans, when(mpg.trans.startswith(\"a\"), \"auto\").otherwise(\"manual\").alias(\"transmission\")).show(4)"
   ]
  },
  {
   "cell_type": "markdown",
   "metadata": {},
   "source": [
    "3) Load the tips dataset as a spark dataframe.\n",
    "\n",
    "   - What percentage of observations are smokers?\n",
    "   - Create a column that contains the tip percentage\n",
    "   - Calculate the average tip percentage for each combination of sex and smoker.\n"
   ]
  },
  {
   "cell_type": "code",
   "execution_count": 118,
   "metadata": {},
   "outputs": [
    {
     "name": "stdout",
     "output_type": "stream",
     "text": [
      "+----------+----+------+------+---+------+----+\n",
      "|total_bill| tip|   sex|smoker|day|  time|size|\n",
      "+----------+----+------+------+---+------+----+\n",
      "|     16.99|1.01|Female|    No|Sun|Dinner|   2|\n",
      "|     10.34|1.66|  Male|    No|Sun|Dinner|   3|\n",
      "|     21.01| 3.5|  Male|    No|Sun|Dinner|   3|\n",
      "|     23.68|3.31|  Male|    No|Sun|Dinner|   2|\n",
      "|     24.59|3.61|Female|    No|Sun|Dinner|   4|\n",
      "+----------+----+------+------+---+------+----+\n",
      "only showing top 5 rows\n",
      "\n"
     ]
    }
   ],
   "source": [
    "tips = spark.createDataFrame(data(\"tips\"))\n",
    "tips.show(5)"
   ]
  },
  {
   "cell_type": "code",
   "execution_count": null,
   "metadata": {},
   "outputs": [],
   "source": []
  },
  {
   "cell_type": "code",
   "execution_count": null,
   "metadata": {},
   "outputs": [],
   "source": []
  },
  {
   "cell_type": "code",
   "execution_count": null,
   "metadata": {},
   "outputs": [],
   "source": []
  },
  {
   "cell_type": "code",
   "execution_count": null,
   "metadata": {},
   "outputs": [],
   "source": []
  },
  {
   "cell_type": "code",
   "execution_count": null,
   "metadata": {},
   "outputs": [],
   "source": []
  },
  {
   "cell_type": "code",
   "execution_count": null,
   "metadata": {},
   "outputs": [],
   "source": []
  },
  {
   "cell_type": "markdown",
   "metadata": {},
   "source": [
    "4) Use the seattle weather dataset referenced in the lesson to answer the questions below.\n",
    "\n",
    "   - Convert the temperatures to farenheight.\n",
    "   - Which month has the most rain, on average?\n",
    "   - Which year was the windiest?\n",
    "   - What is the most frequent type of weather in January?\n",
    "   - What is the average high and low temperature on sunny days in July in 2013 and 2014?\n",
    "   - What percentage of days were rainy in q3 of 2015?\n",
    "   - For each year, find what percentage of days it rained (had non-zero precipitation)."
   ]
  },
  {
   "cell_type": "code",
   "execution_count": 277,
   "metadata": {},
   "outputs": [
    {
     "name": "stdout",
     "output_type": "stream",
     "text": [
      "+-------------------+-------------+--------+--------+----+-------+\n",
      "|               date|precipitation|temp_max|temp_min|wind|weather|\n",
      "+-------------------+-------------+--------+--------+----+-------+\n",
      "|2012-01-01 00:00:00|          0.0|    12.8|     5.0| 4.7|drizzle|\n",
      "|2012-01-02 00:00:00|         10.9|    10.6|     2.8| 4.5|   rain|\n",
      "|2012-01-03 00:00:00|          0.8|    11.7|     7.2| 2.3|   rain|\n",
      "|2012-01-04 00:00:00|         20.3|    12.2|     5.6| 4.7|   rain|\n",
      "|2012-01-05 00:00:00|          1.3|     8.9|     2.8| 6.1|   rain|\n",
      "|2012-01-06 00:00:00|          2.5|     4.4|     2.2| 2.2|   rain|\n",
      "|2012-01-07 00:00:00|          0.0|     7.2|     2.8| 2.3|   rain|\n",
      "+-------------------+-------------+--------+--------+----+-------+\n",
      "only showing top 7 rows\n",
      "\n"
     ]
    }
   ],
   "source": [
    "from vega_datasets import data\n",
    "seattle = spark.createDataFrame(data.seattle_weather())\n",
    "seattle.show(7)"
   ]
  },
  {
   "cell_type": "code",
   "execution_count": 278,
   "metadata": {},
   "outputs": [],
   "source": [
    "temp_max_f = (col(\"temp_max\") * 9/5) + 32"
   ]
  },
  {
   "cell_type": "code",
   "execution_count": 279,
   "metadata": {},
   "outputs": [],
   "source": [
    "temp_min_f = (col(\"temp_min\") * 9/5) + 32"
   ]
  },
  {
   "cell_type": "code",
   "execution_count": 280,
   "metadata": {},
   "outputs": [
    {
     "name": "stdout",
     "output_type": "stream",
     "text": [
      "+-------------------+-------------+----------+----------+----------+----------+----+-------+\n",
      "|               date|precipitation|temp_max_c|temp_min_c|temp_max_f|temp_min_f|wind|weather|\n",
      "+-------------------+-------------+----------+----------+----------+----------+----+-------+\n",
      "|2012-01-01 00:00:00|          0.0|      12.8|       5.0|     55.04|      41.0| 4.7|drizzle|\n",
      "|2012-01-02 00:00:00|         10.9|      10.6|       2.8|     51.08|     37.04| 4.5|   rain|\n",
      "|2012-01-03 00:00:00|          0.8|      11.7|       7.2|     53.06|     44.96| 2.3|   rain|\n",
      "|2012-01-04 00:00:00|         20.3|      12.2|       5.6|     53.96|     42.08| 4.7|   rain|\n",
      "|2012-01-05 00:00:00|          1.3|       8.9|       2.8|     48.02|     37.04| 6.1|   rain|\n",
      "|2012-01-06 00:00:00|          2.5|       4.4|       2.2|     39.92|     35.96| 2.2|   rain|\n",
      "|2012-01-07 00:00:00|          0.0|       7.2|       2.8|     44.96|     37.04| 2.3|   rain|\n",
      "+-------------------+-------------+----------+----------+----------+----------+----+-------+\n",
      "only showing top 7 rows\n",
      "\n"
     ]
    }
   ],
   "source": [
    "seattle.select(\n",
    "    seattle.date,\n",
    "    seattle.precipitation,\n",
    "    seattle.temp_max.alias(\"temp_max_c\"),\n",
    "    seattle.temp_min.alias(\"temp_min_c\"),\n",
    "    temp_max_f.alias(\"temp_max_f\"),\n",
    "    temp_min_f.alias(\"temp_min_f\"),\n",
    "    seattle.wind,\n",
    "    seattle.weather\n",
    ").show(7)"
   ]
  },
  {
   "cell_type": "code",
   "execution_count": 281,
   "metadata": {},
   "outputs": [],
   "source": [
    "from pyspark.sql.functions import to_timestamp"
   ]
  },
  {
   "cell_type": "code",
   "execution_count": 282,
   "metadata": {},
   "outputs": [],
   "source": [
    "from pyspark.sql.functions import month, year, quarter"
   ]
  },
  {
   "cell_type": "code",
   "execution_count": 283,
   "metadata": {},
   "outputs": [
    {
     "name": "stdout",
     "output_type": "stream",
     "text": [
      "+-------------------+----+-------+\n",
      "|                 dt|wind|weather|\n",
      "+-------------------+----+-------+\n",
      "|2012-01-01 00:00:00| 4.7|drizzle|\n",
      "|2012-01-02 00:00:00| 4.5|   rain|\n",
      "|2012-01-03 00:00:00| 2.3|   rain|\n",
      "|2012-01-04 00:00:00| 4.7|   rain|\n",
      "|2012-01-05 00:00:00| 6.1|   rain|\n",
      "+-------------------+----+-------+\n",
      "only showing top 5 rows\n",
      "\n"
     ]
    }
   ],
   "source": [
    "df = seattle.select(to_timestamp(seattle.date, 'yyyy-MM-dd HH:mm:ss').alias(\"dt\"), seattle.wind, seattle.weather).show(5)"
   ]
  },
  {
   "cell_type": "code",
   "execution_count": 284,
   "metadata": {},
   "outputs": [],
   "source": [
    "from pyspark.sql.functions import dayofmonth"
   ]
  },
  {
   "cell_type": "code",
   "execution_count": 327,
   "metadata": {},
   "outputs": [
    {
     "name": "stdout",
     "output_type": "stream",
     "text": [
      "+-------------------+----+-----+---+-------------+----------+----------+----------+----------+----+-------+\n",
      "|               date|year|month|day|precipitation|temp_max_c|temp_min_c|temp_max_f|temp_min_f|wind|weather|\n",
      "+-------------------+----+-----+---+-------------+----------+----------+----------+----------+----+-------+\n",
      "|2012-01-01 00:00:00|2012|    1|  1|          0.0|      12.8|       5.0|     55.04|      41.0| 4.7|drizzle|\n",
      "|2012-01-02 00:00:00|2012|    1|  2|         10.9|      10.6|       2.8|     51.08|     37.04| 4.5|   rain|\n",
      "|2012-01-03 00:00:00|2012|    1|  3|          0.8|      11.7|       7.2|     53.06|     44.96| 2.3|   rain|\n",
      "|2012-01-04 00:00:00|2012|    1|  4|         20.3|      12.2|       5.6|     53.96|     42.08| 4.7|   rain|\n",
      "|2012-01-05 00:00:00|2012|    1|  5|          1.3|       8.9|       2.8|     48.02|     37.04| 6.1|   rain|\n",
      "|2012-01-06 00:00:00|2012|    1|  6|          2.5|       4.4|       2.2|     39.92|     35.96| 2.2|   rain|\n",
      "|2012-01-07 00:00:00|2012|    1|  7|          0.0|       7.2|       2.8|     44.96|     37.04| 2.3|   rain|\n",
      "+-------------------+----+-----+---+-------------+----------+----------+----------+----------+----+-------+\n",
      "only showing top 7 rows\n",
      "\n"
     ]
    }
   ],
   "source": [
    "seattle.select(\n",
    "    seattle.date,\n",
    "    year(\"date\").alias('year'), \n",
    "    month(\"date\").alias('month'), \n",
    "    dayofmonth(\"date\").alias('day'),\n",
    "    seattle.precipitation,\n",
    "    seattle.temp_max.alias(\"temp_max_c\"),\n",
    "    seattle.temp_min.alias(\"temp_min_c\"),\n",
    "    temp_max_f.alias(\"temp_max_f\"),\n",
    "    temp_min_f.alias(\"temp_min_f\"),\n",
    "    seattle.wind,\n",
    "    seattle.weather\n",
    ").show(7)"
   ]
  },
  {
   "cell_type": "code",
   "execution_count": 353,
   "metadata": {},
   "outputs": [
    {
     "name": "stdout",
     "output_type": "stream",
     "text": [
      "+-----+-------------+----+-------+\n",
      "|month|precipitation|wind|weather|\n",
      "+-----+-------------+----+-------+\n",
      "|    1|          0.0| 4.7|drizzle|\n",
      "|    1|         10.9| 4.5|   rain|\n",
      "|    1|          0.8| 2.3|   rain|\n",
      "|    1|         20.3| 4.7|   rain|\n",
      "|    1|          1.3| 6.1|   rain|\n",
      "|    1|          2.5| 2.2|   rain|\n",
      "|    1|          0.0| 2.3|   rain|\n",
      "+-----+-------------+----+-------+\n",
      "only showing top 7 rows\n",
      "\n"
     ]
    }
   ],
   "source": [
    "seattle.select(\n",
    "    month(\"date\").alias('month'), \n",
    "    seattle.precipitation,\n",
    "    seattle.wind,\n",
    "    seattle.weather,\n",
    ").show(7)"
   ]
  },
  {
   "cell_type": "code",
   "execution_count": 354,
   "metadata": {},
   "outputs": [
    {
     "name": "stdout",
     "output_type": "stream",
     "text": [
      "+-------------------+-------------+--------+--------+----+-------+\n",
      "|               date|precipitation|temp_max|temp_min|wind|weather|\n",
      "+-------------------+-------------+--------+--------+----+-------+\n",
      "|2012-01-01 00:00:00|          0.0|    12.8|     5.0| 4.7|drizzle|\n",
      "|2012-01-02 00:00:00|         10.9|    10.6|     2.8| 4.5|   rain|\n",
      "|2012-01-03 00:00:00|          0.8|    11.7|     7.2| 2.3|   rain|\n",
      "|2012-01-04 00:00:00|         20.3|    12.2|     5.6| 4.7|   rain|\n",
      "|2012-01-05 00:00:00|          1.3|     8.9|     2.8| 6.1|   rain|\n",
      "+-------------------+-------------+--------+--------+----+-------+\n",
      "only showing top 5 rows\n",
      "\n"
     ]
    }
   ],
   "source": [
    "seattle.show(5)"
   ]
  },
  {
   "cell_type": "code",
   "execution_count": 363,
   "metadata": {},
   "outputs": [
    {
     "ename": "IndentationError",
     "evalue": "unexpected indent (<ipython-input-363-dbaa2f3d79da>, line 2)",
     "output_type": "error",
     "traceback": [
      "\u001b[0;36m  File \u001b[0;32m\"<ipython-input-363-dbaa2f3d79da>\"\u001b[0;36m, line \u001b[0;32m2\u001b[0m\n\u001b[0;31m    .withColumn(\"avg\", (seattle.precipitation)/len(seattle.precipitation)).show()\u001b[0m\n\u001b[0m    ^\u001b[0m\n\u001b[0;31mIndentationError\u001b[0m\u001b[0;31m:\u001b[0m unexpected indent\n"
     ]
    }
   ],
   "source": [
    "seattle.filter(month(\"date\") == 1)\n",
    "    .withColumn(\"avg\", (seattle.precipitation)/len(seattle.precipitation)).show()\n"
   ]
  },
  {
   "cell_type": "code",
   "execution_count": null,
   "metadata": {},
   "outputs": [],
   "source": []
  },
  {
   "cell_type": "code",
   "execution_count": null,
   "metadata": {},
   "outputs": [],
   "source": []
  },
  {
   "cell_type": "code",
   "execution_count": null,
   "metadata": {},
   "outputs": [],
   "source": [
    "(\n",
    "    weather.filter(year(\"date\") == 2013)\n",
    "    .withColumn(\"freezing_temps\", (weather.temp_avg <= 0).cast(\"int\"))\n",
    "    .withColumn(\"month\", month(\"date\"))\n",
    "    .groupBy(\"month\")\n",
    "    .agg(sum(\"freezing_temps\").alias(\"no_of_days_with_freezing_temps\"))\n",
    "    .sort(\"month\")\n",
    "    .show()\n",
    ")"
   ]
  },
  {
   "cell_type": "markdown",
   "metadata": {},
   "source": []
  }
 ],
 "metadata": {
  "kernelspec": {
   "display_name": "Python 3",
   "language": "python",
   "name": "python3"
  },
  "language_info": {
   "codemirror_mode": {
    "name": "ipython",
    "version": 3
   },
   "file_extension": ".py",
   "mimetype": "text/x-python",
   "name": "python",
   "nbconvert_exporter": "python",
   "pygments_lexer": "ipython3",
   "version": "3.8.5"
  }
 },
 "nbformat": 4,
 "nbformat_minor": 4
}
